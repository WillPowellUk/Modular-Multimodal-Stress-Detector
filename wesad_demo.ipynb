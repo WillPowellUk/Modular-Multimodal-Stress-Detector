{
 "cells": [
  {
   "cell_type": "markdown",
   "metadata": {},
   "source": [
    "# Welcome to the Modular Multimodal Data Fusion ML Pipeline for stress detection for the WESAD Database\n",
    "\n",
    "## Table of contents\n",
    "\n",
    "\n",
    "\n",
    "\n"
   ]
  },
  {
   "cell_type": "markdown",
   "metadata": {},
   "source": [
    "## Getting Started:\n",
    "First, download necessary packages, if you are using a venv such as Conda, activate this first."
   ]
  },
  {
   "cell_type": "code",
   "execution_count": 1,
   "metadata": {},
   "outputs": [],
   "source": [
    "%pip install -r requirements.txt"
   ]
  },
  {
   "cell_type": "markdown",
   "metadata": {},
   "source": [
    "## Data Installation\n",
    "If you are on Linux, run this cell to download and extract the WESAD dataset automatically, otherwise download manually [here](https://uni-siegen.sciebo.de/s/HGdUkoNlW1Ub0Gx/download) and unzip the `WESAD` file into the `wesad` directory i.e. `wesad/WESAD/`"
   ]
  },
  {
   "cell_type": "code",
   "execution_count": null,
   "metadata": {},
   "outputs": [],
   "source": [
    "%cd wesad && bash download_database.sh\n",
    "%cd .."
   ]
  },
  {
   "cell_type": "markdown",
   "metadata": {},
   "source": [
    "## Data Preprocessing\n",
    "\n",
    "This will automatically extract the biosensor data from the WESAD directory into several merged files in `.pkl` format.\n",
    "\n",
    "This will take around 20 minutes depending on the machine."
   ]
  },
  {
   "cell_type": "code",
   "execution_count": 1,
   "metadata": {},
   "outputs": [
    {
     "name": "stdout",
     "output_type": "stream",
     "text": [
      "Starting preprocessing...\n",
      "Merging wrist data...\n",
      "Processing file: wesad/WESAD/S2/S2.pkl\n",
      "Processing wrist data for subject 2\n",
      "Finished processing wrist data for subject 2\n",
      "Processing file: wesad/WESAD/S3/S3.pkl\n",
      "Processing wrist data for subject 3\n",
      "Finished processing wrist data for subject 3\n",
      "Finished merging wrist data\n",
      "Merging chest data...\n",
      "Processing chest data for subject 2\n",
      "Finished processing chest data for subject 2\n",
      "Processing chest data for subject 2\n",
      "Finished processing chest data for subject 2\n",
      "Processing chest data for subject 3\n",
      "Finished processing chest data for subject 3\n",
      "Processing file: wesad/WESAD/S2/S2.pkl\n",
      "Processing chest data for subject 2\n",
      "Finished processing chest data for subject 2\n",
      "Processing file: wesad/WESAD/S3/S3.pkl\n",
      "Processing chest data for subject 3\n",
      "Finished processing chest data for subject 3\n",
      "Finished merging chest data\n",
      "Filtering chest data...\n",
      "Finished filtering chest data\n",
      "Preprocessing completed\n"
     ]
    }
   ],
   "source": [
    "from wesad.data_preprocessing.data_preprocessor import DataPreprocessor\n",
    "\n",
    "preprocessor = DataPreprocessor()\n",
    "preprocessor.preprocess()"
   ]
  },
  {
   "cell_type": "markdown",
   "metadata": {},
   "source": [
    "## Signal Preprocessing Steps\n",
    "We will preprocess each signal with their respective preprocessing steps:\n",
    "\n",
    "### Chest Signals\n",
    "\n",
    "#### ECG\n",
    "- **Smoothing**: Savitzky–Golay filter with window size 11 and order 3.\n",
    "- **Filtering**: Butterworth band-pass filter of order 3 with cutoff frequencies 0.7 Hz and 3.7 Hz.\n",
    "\n",
    "#### EMG\n",
    "- **Smoothing**: Savitzky–Golay filter with window size 11 and order 3.\n",
    "- **Filtering**: Butterworth lowpass filter of order 3 with cutoff frequency 0.5 Hz.\n",
    "\n",
    "#### EDA\n",
    "- **Smoothing**: Savitzky–Golay filter with window size 11 and order 3.\n",
    "- **Filtering**: Butterworth lowpass filter of order 2 with cutoff frequency 5 Hz.\n",
    "\n",
    "#### TEMP\n",
    "- **Smoothing**: Savitzky–Golay filter with window size 11 and order 3.\n",
    "\n",
    "#### RESP\n",
    "- **Smoothing**: Savitzky–Golay filter with window size 11 and order 3.\n",
    "- **Filtering**: Butterworth band-pass filter of order 3 with cutoff frequencies 0.1 Hz and 0.35 Hz.\n",
    "\n",
    "#### ACC\n",
    "- **Smoothing**: Savitzky–Golay filter with window size 31 and order 5.\n",
    "\n",
    "### Wrist Signals\n",
    "\n",
    "#### BVP\n",
    "- **Filtering**: Butterworth band-pass filter of order 3 with cutoff frequencies 0.7 Hz and 3.7 Hz.\n",
    "\n",
    "#### TEMP\n",
    "- **Smoothing**: Savitzky–Golay filter with window size 11 and order 3.\n",
    "\n",
    "#### ACC\n",
    "- **Smoothing**: Savitzky–Golay filter with window size 31 and order 5.\n"
   ]
  },
  {
   "cell_type": "code",
   "execution_count": 1,
   "metadata": {},
   "outputs": [
    {
     "ename": "AttributeError",
     "evalue": "'SignalPreprocessor' object has no attribute 'preprocess'",
     "output_type": "error",
     "traceback": [
      "\u001b[0;31m---------------------------------------------------------------------------\u001b[0m",
      "\u001b[0;31mAttributeError\u001b[0m                            Traceback (most recent call last)",
      "Cell \u001b[0;32mIn[1], line 4\u001b[0m\n\u001b[1;32m      1\u001b[0m \u001b[38;5;28;01mfrom\u001b[39;00m \u001b[38;5;21;01mwesad\u001b[39;00m\u001b[38;5;21;01m.\u001b[39;00m\u001b[38;5;21;01msignal_preprocessing\u001b[39;00m \u001b[38;5;28;01mimport\u001b[39;00m SignalPreprocessor\n\u001b[1;32m      3\u001b[0m signal_preprocessor \u001b[38;5;241m=\u001b[39m SignalPreprocessor()\n\u001b[0;32m----> 4\u001b[0m \u001b[43msignal_preprocessor\u001b[49m\u001b[38;5;241;43m.\u001b[39;49m\u001b[43mpreprocess\u001b[49m()\n",
      "\u001b[0;31mAttributeError\u001b[0m: 'SignalPreprocessor' object has no attribute 'preprocess'"
     ]
    }
   ],
   "source": [
    "from wesad.signal_preprocessing import SignalPreprocessor\n",
    "\n",
    "signal_preprocessor = SignalPreprocessor()\n",
    "signal_preprocessor.preprocess_signals()"
   ]
  },
  {
   "cell_type": "markdown",
   "metadata": {},
   "source": [
    "Now, using the preprocessed `.pkl` files we will make it into a dataloader."
   ]
  },
  {
   "cell_type": "code",
   "execution_count": 1,
   "metadata": {},
   "outputs": [
    {
     "ename": "",
     "evalue": "",
     "output_type": "error",
     "traceback": [
      "\u001b[1;31mThe Kernel crashed while executing code in the current cell or a previous cell. \n",
      "\u001b[1;31mPlease review the code in the cell(s) to identify a possible cause of the failure. \n",
      "\u001b[1;31mClick <a href='https://aka.ms/vscodeJupyterKernelCrash'>here</a> for more info. \n",
      "\u001b[1;31mView Jupyter <a href='command:jupyter.viewOutput'>log</a> for further details."
     ]
    }
   ],
   "source": [
    "from wesad.data_preprocessing.dataloader import WesadDataset, WesadPreprocessor, perform_loocv\n",
    "from torch.utils.data import DataLoader\n",
    "\n",
    "# Usage example\n",
    "preprocessor = WesadPreprocessor()\n",
    "preprocessed_filepath = 'wesad/WESAD/preprocessed_wesad_data.pkl'\n",
    "\n",
    "# First time processing and saving the data\n",
    "perform_loocv(preprocessor, use_preprocessed=False, preprocessed_filepath=preprocessed_filepath)\n",
    "\n",
    "# Later on, loading the preprocessed data for LOOCV\n",
    "# results = perform_loocv(preprocessor, use_preprocessed=True, preprocessed_filepath=preprocessed_filepath)"
   ]
  },
  {
   "cell_type": "code",
   "execution_count": 3,
   "metadata": {},
   "outputs": [
    {
     "data": {
      "text/html": [
       "<div>\n",
       "<style scoped>\n",
       "    .dataframe tbody tr th:only-of-type {\n",
       "        vertical-align: middle;\n",
       "    }\n",
       "\n",
       "    .dataframe tbody tr th {\n",
       "        vertical-align: top;\n",
       "    }\n",
       "\n",
       "    .dataframe thead th {\n",
       "        text-align: right;\n",
       "    }\n",
       "</style>\n",
       "<table border=\"1\" class=\"dataframe\">\n",
       "  <thead>\n",
       "    <tr style=\"text-align: right;\">\n",
       "      <th></th>\n",
       "      <th>sid</th>\n",
       "      <th>acc1</th>\n",
       "      <th>acc2</th>\n",
       "      <th>acc3</th>\n",
       "      <th>ecg</th>\n",
       "      <th>emg</th>\n",
       "      <th>eda</th>\n",
       "      <th>temp</th>\n",
       "      <th>resp</th>\n",
       "      <th>label</th>\n",
       "    </tr>\n",
       "  </thead>\n",
       "  <tbody>\n",
       "    <tr>\n",
       "      <th>214583</th>\n",
       "      <td>2.0</td>\n",
       "      <td>0.8914</td>\n",
       "      <td>-0.1102</td>\n",
       "      <td>-0.2576</td>\n",
       "      <td>0.030945</td>\n",
       "      <td>-0.003708</td>\n",
       "      <td>5.710983</td>\n",
       "      <td>29.083618</td>\n",
       "      <td>1.191711</td>\n",
       "      <td>1.0</td>\n",
       "    </tr>\n",
       "    <tr>\n",
       "      <th>214584</th>\n",
       "      <td>2.0</td>\n",
       "      <td>0.8926</td>\n",
       "      <td>-0.1086</td>\n",
       "      <td>-0.2544</td>\n",
       "      <td>0.033646</td>\n",
       "      <td>-0.014145</td>\n",
       "      <td>5.719376</td>\n",
       "      <td>29.122437</td>\n",
       "      <td>1.139832</td>\n",
       "      <td>1.0</td>\n",
       "    </tr>\n",
       "    <tr>\n",
       "      <th>214585</th>\n",
       "      <td>2.0</td>\n",
       "      <td>0.8930</td>\n",
       "      <td>-0.1094</td>\n",
       "      <td>-0.2580</td>\n",
       "      <td>0.033005</td>\n",
       "      <td>0.010208</td>\n",
       "      <td>5.706406</td>\n",
       "      <td>29.115234</td>\n",
       "      <td>1.141357</td>\n",
       "      <td>1.0</td>\n",
       "    </tr>\n",
       "    <tr>\n",
       "      <th>214586</th>\n",
       "      <td>2.0</td>\n",
       "      <td>0.8934</td>\n",
       "      <td>-0.1082</td>\n",
       "      <td>-0.2538</td>\n",
       "      <td>0.031815</td>\n",
       "      <td>0.012634</td>\n",
       "      <td>5.712509</td>\n",
       "      <td>29.126709</td>\n",
       "      <td>1.155090</td>\n",
       "      <td>1.0</td>\n",
       "    </tr>\n",
       "    <tr>\n",
       "      <th>214587</th>\n",
       "      <td>2.0</td>\n",
       "      <td>0.8930</td>\n",
       "      <td>-0.1096</td>\n",
       "      <td>-0.2570</td>\n",
       "      <td>0.030350</td>\n",
       "      <td>0.002060</td>\n",
       "      <td>5.727005</td>\n",
       "      <td>29.100861</td>\n",
       "      <td>1.133728</td>\n",
       "      <td>1.0</td>\n",
       "    </tr>\n",
       "  </tbody>\n",
       "</table>\n",
       "</div>"
      ],
      "text/plain": [
       "        sid    acc1    acc2    acc3       ecg       emg       eda       temp  \\\n",
       "214583  2.0  0.8914 -0.1102 -0.2576  0.030945 -0.003708  5.710983  29.083618   \n",
       "214584  2.0  0.8926 -0.1086 -0.2544  0.033646 -0.014145  5.719376  29.122437   \n",
       "214585  2.0  0.8930 -0.1094 -0.2580  0.033005  0.010208  5.706406  29.115234   \n",
       "214586  2.0  0.8934 -0.1082 -0.2538  0.031815  0.012634  5.712509  29.126709   \n",
       "214587  2.0  0.8930 -0.1096 -0.2570  0.030350  0.002060  5.727005  29.100861   \n",
       "\n",
       "            resp  label  \n",
       "214583  1.191711    1.0  \n",
       "214584  1.139832    1.0  \n",
       "214585  1.141357    1.0  \n",
       "214586  1.155090    1.0  \n",
       "214587  1.133728    1.0  "
      ]
     },
     "execution_count": 3,
     "metadata": {},
     "output_type": "execute_result"
    }
   ],
   "source": [
    "import pandas as pd\n",
    "\n",
    "df = pd.read_pickle('wesad/WESAD/raw/merged_chest.pkl')\n",
    "\n",
    "df.head()"
   ]
  },
  {
   "cell_type": "code",
   "execution_count": 1,
   "metadata": {},
   "outputs": [],
   "source": [
    "import pandas as pd\n",
    "\n",
    "# Define file paths\n",
    "pkl_path1 = 'wesad/WESAD/raw/subj_merged_acc_w.pkl'\n",
    "pkl_path2 = 'wesad/WESAD/raw/subj_merged_eda_temp_w.pkl'\n",
    "pkl_path3 = 'wesad/WESAD/raw/subj_merged_bvp_w.pkl'\n",
    "\n",
    "# Load the data from pickle files\n",
    "df1 = pd.read_pickle(pkl_path1)\n",
    "df2 = pd.read_pickle(pkl_path2)\n",
    "df3 = pd.read_pickle(pkl_path3)\n",
    "\n",
    "# Merge dataframes on common columns (assumed to be a common index)\n",
    "# Adjust the merge method and key columns as needed\n",
    "merged_df = df1.merge(df2, left_index=True, right_index=True, how='inner')\n",
    "merged_df = merged_df.merge(df3, left_index=True, right_index=True, how='inner')\n",
    "\n",
    "# Save the merged dataframe to a new pickle file\n",
    "merged_df.to_pickle('wesad/WESAD/raw/merged_wrist.pkl')\n"
   ]
  }
 ],
 "metadata": {
  "kernelspec": {
   "display_name": "ML_Dev_C11",
   "language": "python",
   "name": "python3"
  },
  "language_info": {
   "codemirror_mode": {
    "name": "ipython",
    "version": 3
   },
   "file_extension": ".py",
   "mimetype": "text/x-python",
   "name": "python",
   "nbconvert_exporter": "python",
   "pygments_lexer": "ipython3",
   "version": "3.12.3"
  }
 },
 "nbformat": 4,
 "nbformat_minor": 2
}
