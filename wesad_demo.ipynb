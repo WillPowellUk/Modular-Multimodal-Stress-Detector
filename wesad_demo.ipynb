{
 "cells": [
  {
   "cell_type": "markdown",
   "metadata": {},
   "source": [
    "# Welcome to the Modular Multimodal Data Fusion ML Pipeline for stress detection for the WESAD Database\n",
    "\n",
    "## Table of contents\n",
    "\n",
    "\n",
    "\n",
    "\n"
   ]
  },
  {
   "cell_type": "markdown",
   "metadata": {},
   "source": [
    "## Getting Started:\n",
    "First, download necessary packages, if you are using a venv such as Conda, activate this first."
   ]
  },
  {
   "cell_type": "code",
   "execution_count": null,
   "metadata": {},
   "outputs": [],
   "source": [
    "%pip install -r requirements.txt"
   ]
  },
  {
   "cell_type": "markdown",
   "metadata": {},
   "source": [
    "## Data Installation\n",
    "If you are on Linux, run this cell to download and extract the WESAD dataset automatically, otherwise download manually [here](https://uni-siegen.sciebo.de/s/HGdUkoNlW1Ub0Gx/download) and unzip the `WESAD` file into the `wesad` directory i.e. `wesad/WESAD/`"
   ]
  },
  {
   "cell_type": "code",
   "execution_count": null,
   "metadata": {},
   "outputs": [],
   "source": [
    "%cd src/wesad && bash download_database.sh\n",
    "%cd ../.."
   ]
  },
  {
   "cell_type": "markdown",
   "metadata": {},
   "source": [
    "## Data Preprocessing\n",
    "\n",
    "This will automatically extract the biosensor data from the WESAD directory into several merged files in `.pkl` format.\n",
    "\n",
    "This will take around 10 minutes depending on the machine."
   ]
  },
  {
   "cell_type": "code",
   "execution_count": null,
   "metadata": {},
   "outputs": [],
   "source": [
    "from src.wesad.data_preprocessing import WESADDataPreprocessor\n",
    "\n",
    "preprocessor = WESADDataPreprocessor('src/wesad/WESAD/')\n",
    "preprocessor.preprocess()"
   ]
  },
  {
   "cell_type": "markdown",
   "metadata": {},
   "source": [
    "## Signal Preprocessing Steps\n",
    "We will preprocess each signal with their respective preprocessing steps:\n",
    "\n",
    "### Chest Signals\n",
    "\n",
    "#### ECG\n",
    "- **Smoothing**: Savitzky–Golay filter with window size 11 and order 3.\n",
    "- **Filtering**: Butterworth band-pass filter of order 3 with cutoff frequencies 0.7 Hz and 3.7 Hz.\n",
    "\n",
    "#### EMG\n",
    "- **Smoothing**: Savitzky–Golay filter with window size 11 and order 3.\n",
    "- **Filtering**: Butterworth lowpass filter of order 3 with cutoff frequency 0.5 Hz.\n",
    "\n",
    "#### EDA\n",
    "- **Smoothing**: Savitzky–Golay filter with window size 11 and order 3.\n",
    "- **Filtering**: Butterworth lowpass filter of order 2 with cutoff frequency 5 Hz.\n",
    "\n",
    "#### TEMP\n",
    "- **Smoothing**: Savitzky–Golay filter with window size 11 and order 3.\n",
    "\n",
    "#### RESP\n",
    "- **Smoothing**: Savitzky–Golay filter with window size 11 and order 3.\n",
    "- **Filtering**: Butterworth band-pass filter of order 3 with cutoff frequencies 0.1 Hz and 0.35 Hz.\n",
    "\n",
    "#### ACC\n",
    "- **Smoothing**: Savitzky–Golay filter with window size 31 and order 5.\n",
    "\n",
    "### Wrist Signals\n",
    "\n",
    "#### BVP\n",
    "- **Filtering**: Butterworth band-pass filter of order 3 with cutoff frequencies 0.7 Hz and 3.7 Hz.\n",
    "\n",
    "#### TEMP\n",
    "- **Smoothing**: Savitzky–Golay filter with window size 11 and order 3.\n",
    "\n",
    "#### ACC\n",
    "- **Filtering**: Finite Impulse Response (FIR) filter with a length of 64 with a cut-off frequency of 0.4 Hz.\n"
   ]
  },
  {
   "cell_type": "code",
   "execution_count": null,
   "metadata": {},
   "outputs": [],
   "source": [
    "# set config_files\n",
    "CHEST_CONFIG = 'config_files/dataset/wesad_chest_configuration.json'\n",
    "WRIST_CONFIG = 'config_files/dataset/wesad_wrist_configuration.json'"
   ]
  },
  {
   "cell_type": "code",
   "execution_count": null,
   "metadata": {},
   "outputs": [],
   "source": [
    "from src.ml_pipeline.preprocessing import SignalPreprocessor\n",
    "\n",
    "# preprocess the chest data\n",
    "signal_preprocessor = SignalPreprocessor('src/wesad/WESAD/raw/merged_chest.pkl', 'src/wesad/WESAD/cleaned/chest_preprocessed.pkl', CHEST_CONFIG)\n",
    "signal_preprocessor.preprocess_signals()\n",
    "\n",
    "# preprocess the wrist data\n",
    "signal_preprocessor = SignalPreprocessor('src/wesad/WESAD/raw/merged_wrist.pkl', 'src/wesad/WESAD/cleaned/wrist_preprocessed.pkl', WRIST_CONFIG, wrist=True)\n",
    "signal_preprocessor.preprocess_signals()"
   ]
  },
  {
   "cell_type": "markdown",
   "metadata": {},
   "source": [
    "## Data Augmentation and Splitting\n",
    "Data augmentation will take the form of a sliding window. Once the data is augmented, each sample will then be split into smaller segments"
   ]
  },
  {
   "cell_type": "code",
   "execution_count": null,
   "metadata": {},
   "outputs": [],
   "source": [
    "from src.ml_pipeline.data_loader import DataAugmenter\n",
    "\n",
    "WINDOW_LENGTH = 60\n",
    "SLIDING_LENGTH = 5\n",
    "SPLIT_LENGTH = 10 # this will split each 60 second segments into 6 x 10 second segments\n",
    "\n",
    "WRIST_CONFIG = 'config_files/dataset/wesad_wrist_configuration.json'\n",
    "\n",
    "wrist_augmenter = DataAugmenter('src/wesad/WESAD/cleaned/wrist_preprocessed.pkl', WRIST_CONFIG) \n",
    "batches = wrist_augmenter.augment_data(WINDOW_LENGTH, SLIDING_LENGTH)\n",
    "wrist_splitted_segments = wrist_augmenter.split_segments(batches, WINDOW_LENGTH//SPLIT_LENGTH)"
   ]
  },
  {
   "cell_type": "markdown",
   "metadata": {},
   "source": [
    "## Traditional Machine Learning\n",
    "\n",
    "The manual feature extraction derives features in the time, frequency and non-linear domains."
   ]
  },
  {
   "cell_type": "code",
   "execution_count": null,
   "metadata": {},
   "outputs": [],
   "source": [
    "from src.ml_pipeline.feature_extraction import ManualFE\n",
    "\n",
    "WINDOW_LENGTH = 60\n",
    "SLIDING_LENGTH = 5\n",
    "SPLIT_LENGTH = 10 # this will split each 60 second segments into 6 x 10 second segments\n",
    "WRIST_CONFIG = 'config_files/dataset/wesad_wrist_configuration.json'\n",
    "WRIST_FE = f'src/wesad/WESAD/manual_fe/wrist_manual_fe/{WINDOW_LENGTH}s_{SLIDING_LENGTH}s_{SPLIT_LENGTH}s/wrist_features.hdf5'\n",
    "\n",
    "manual_fe = ManualFE(wrist_splitted_segments, WRIST_FE, WRIST_CONFIG)\n",
    "manual_fe.extract_features()"
   ]
  },
  {
   "cell_type": "markdown",
   "metadata": {},
   "source": [
    "### Prepare LOSOCV Datasets\n",
    "\n",
    "Now, using the preprocessed `.pkl` files we will make it into a dataloader with LOSOCV (Leave one subject out cross validation). The data augmented samples will be used in the training set but ignored in the test set."
   ]
  },
  {
   "cell_type": "code",
   "execution_count": null,
   "metadata": {},
   "outputs": [],
   "source": [
    "from src.ml_pipeline.data_loader import LOSOCVDataLoader\n",
    "\n",
    "WINDOW_LENGTH = 60\n",
    "SLIDING_LENGTH = 5\n",
    "SPLIT_LENGTH = 10 # this will split each 60 second segments into 6 x 10 second segments\n",
    "WRIST_CONFIG = 'config_files/dataset/wesad_wrist_configuration.json'\n",
    "# WRIST_FE = f'src/wesad/WESAD/manual_fe/wrist_manual_fe/{WINDOW_LENGTH}s_{SLIDING_LENGTH}s_{SPLIT_LENGTH}s/wrist_features.hdf5'\n",
    "WRIST_FE = f'src/wesad/WESAD/manual_fe/test203/wrist_manual_fe_{WINDOW_LENGTH}s_{SLIDING_LENGTH}s_{SPLIT_LENGTH}s.hdf5'\n",
    "\n",
    "dataloader_params = {\n",
    "    'batch_size': 32,\n",
    "    'shuffle': True,\n",
    "    # 'num_workers': 4\n",
    "}\n",
    "losocv_loader = LOSOCVDataLoader(WRIST_FE, WRIST_CONFIG, **dataloader_params)\n",
    "\n",
    "# Prepare the datasets\n",
    "DATASETS_PATH = losocv_loader.prepare_datasets()"
   ]
  },
  {
   "cell_type": "markdown",
   "metadata": {},
   "source": [
    "### Train and Validate Models with LOSOCV\n",
    "\n",
    "Now we can use the prepared datasets and form dataloaders which will then be used to perform LOSOCV on the models. Using the config file we can set the models that we want to test and their corresponding hyperparameters."
   ]
  },
  {
   "cell_type": "code",
   "execution_count": null,
   "metadata": {},
   "outputs": [],
   "source": [
    "from src.ml_pipeline.data_loader import LOSOCVDataLoader\n",
    "from src.ml_pipeline.train import TraditionalMLTrainer\n",
    "from src.utils import save_var\n",
    "\n",
    "WINDOW_LENGTH = 60\n",
    "SLIDING_LENGTH = 5\n",
    "SPLIT_LENGTH = 10 # this will split each 60 second segments into 6 x 10 second segments\n",
    "WRIST_CONFIG = 'config_files/dataset/wesad_wrist_configuration.json'\n",
    "WRIST_FE = f'src/wesad/WESAD/manual_fe/wrist_manual_fe/{WINDOW_LENGTH}s_{SLIDING_LENGTH}s_{SPLIT_LENGTH}s/wrist_features.hdf5'\n",
    "\n",
    "dataloader_params = {\n",
    "    'batch_size': 32,\n",
    "    'shuffle': True\n",
    "    # 'num_workers': 4\n",
    "}\n",
    "\n",
    "# Load tradtional model config\n",
    "losocv_loader = LOSOCVDataLoader(WRIST_FE, WRIST_CONFIG, **dataloader_params)\n",
    "dataloaders = losocv_loader.get_data_loaders(DATASETS_PATH)\n",
    "TRADTIONAL_ML_CONFIG = 'config_files/model_training/traditional/traditional_models.json'\n",
    "\n",
    "results = []\n",
    "for i, (subject_id, loaders) in enumerate(dataloaders.items()):\n",
    "    train_loader = loaders['train']\n",
    "    val_loader = loaders['val']\n",
    "    \n",
    "    print(f'\\nFold {i}')\n",
    "    print(f'Train: {len(train_loader.dataset)}')\n",
    "    print(f'Val: {len(val_loader.dataset)}')\n",
    "    print()\n",
    "\n",
    "    # Initialize trainer\n",
    "    trainer = TraditionalMLTrainer(TRADTIONAL_ML_CONFIG, train_loader, val_loader)\n",
    "\n",
    "    # trained_models = trainer.tune_hyperparameters(n_jobs=4, cv=None, verbose=2)\n",
    "    trained_models = trainer.train()\n",
    "\n",
    "    result = trainer.validate(trained_models)\n",
    "    print(result)\n",
    "    results.append(result)\n",
    "\n",
    "# save the results to pkl\n",
    "save_var(results, 'src/wesad/WESAD/results/traditional_models/wrist_results.pkl')"
   ]
  },
  {
   "cell_type": "markdown",
   "metadata": {},
   "source": [
    "### Visualize Results"
   ]
  },
  {
   "cell_type": "code",
   "execution_count": null,
   "metadata": {},
   "outputs": [],
   "source": [
    "from src.ml_pipeline.analysis import ModelResultsAnalysis\n",
    "from src.utils import load_var\n",
    "\n",
    "results = load_var('src/wesad/WESAD/results/traditional_models/wrist_results.pkl')\n",
    "\n",
    "analysis = ModelResultsAnalysis(results)\n",
    "analysis.analyze_collective()"
   ]
  },
  {
   "cell_type": "markdown",
   "metadata": {},
   "source": [
    "# Deep Learning Methods\n"
   ]
  },
  {
   "cell_type": "markdown",
   "metadata": {},
   "source": [
    "## Self-Attention Network Alongside Manual Feature Extraction\n",
    "This network employs self-attention networks for intra-modality feature extraction before applying late fusion between modalities."
   ]
  },
  {
   "cell_type": "markdown",
   "metadata": {},
   "source": [
    "### Prepare LOSOCV Datasets on a Per Sensor Basis\n",
    "\n",
    "Now, using the preprocessed `.pkl` files we will make it into a dataloader with LOSOCV (Leave one subject out cross validation) on a per sensor basis. The data augmented samples will be used in the training set but ignored in the test set."
   ]
  },
  {
   "cell_type": "code",
   "execution_count": null,
   "metadata": {},
   "outputs": [],
   "source": [
    "from src.ml_pipeline.data_loader import LOSOCVSensorDataLoader\n",
    "\n",
    "WINDOW_LENGTH = 60\n",
    "SLIDING_LENGTH = 5\n",
    "SPLIT_LENGTH = 10 # this will split each 60 second segments into 6 x 10 second segments\n",
    "WRIST_CONFIG = 'config_files/dataset/wesad_wrist_configuration.json'\n",
    "WRIST_FE = f'src/wesad/WESAD/manual_fe/wrist_manual_fe/{WINDOW_LENGTH}s_{SLIDING_LENGTH}s_{SPLIT_LENGTH}s/wrist_features.hdf5'\n",
    "dataloader_params = {\n",
    "    'batch_size': 32,\n",
    "    'shuffle': True,\n",
    "    # 'num_workers': 4\n",
    "}\n",
    "losocv_loader = LOSOCVSensorDataLoader(WRIST_FE, WRIST_CONFIG, **dataloader_params)\n",
    "\n",
    "# Prepare the datasets\n",
    "DATASETS_PATH = losocv_loader.prepare_datasets(f'src/wesad/WESAD/datasets/{WINDOW_LENGTH}s_{SLIDING_LENGTH}s_{SPLIT_LENGTH}s')"
   ]
  },
  {
   "cell_type": "markdown",
   "metadata": {},
   "source": [
    "### Train and Validate Models with LOSOCV\n",
    "\n",
    "Now we can use the prepared datasets and form dataloaders which will then be used to perform LOSOCV on the models. Using the config file we can set the models that we want to test and their corresponding hyperparameters."
   ]
  },
  {
   "cell_type": "code",
   "execution_count": null,
   "metadata": {},
   "outputs": [],
   "source": [
    "from src.ml_pipeline.train import PyTorchTrainer\n",
    "from src.ml_pipeline.models.attention_models import ModularModalityFusionNet\n",
    "from src.ml_pipeline.data_loader import LOSOCVSensorDataLoader\n",
    "from src.ml_pipeline.utils import get_active_key, get_key, load_json, copy_json\n",
    "from src.utils import save_var\n",
    "from datetime import datetime\n",
    "import torch\n",
    "\n",
    "WINDOW_LENGTH = 60\n",
    "SLIDING_LENGTH = 5\n",
    "SPLIT_LENGTH = 10 # this will split each 60 second segments into 6 x 10 second segments\n",
    "\n",
    "# DATASETS_PATH = f'src/wesad/WESAD/datasets/{WINDOW_LENGTH}s_{SLIDING_LENGTH}s_{SPLIT_LENGTH}_mini/wrist_manual_fe_{WINDOW_LENGTH}s_{SLIDING_LENGTH}s_{SPLIT_LENGTH}.hdf5'\n",
    "DATASETS_PATH = f'src/wesad/WESAD/datasets/{WINDOW_LENGTH}s_{SLIDING_LENGTH}s_{SPLIT_LENGTH}s/losocv_datasets.pkl'\n",
    "WRIST_CONFIG = 'config_files/dataset/wesad_wrist_configuration.json'\n",
    "WRIST_FE = f'src/wesad/WESAD/manual_fe/wrist_manual_fe/{WINDOW_LENGTH}s_{SLIDING_LENGTH}s_{SPLIT_LENGTH}s_mini/wrist_features.hdf5'\n",
    "SAN_MODEL_CONFIG = 'config_files/model_training/deep/modular_modality_fusion_net_config.json'\n",
    "\n",
    "dataloader_params = {\n",
    "    'batch_size': 32,\n",
    "    'shuffle': True,\n",
    "    # 'num_workers': 4\n",
    "}\n",
    "\n",
    "# Load Dataloaders for LOSOCV\n",
    "losocv_loader = LOSOCVSensorDataLoader(WRIST_FE, WRIST_CONFIG, **dataloader_params)\n",
    "dataloaders, input_dims = losocv_loader.get_data_loaders(DATASETS_PATH)\n",
    "\n",
    "# Load Model Parameters\n",
    "model_config = load_json(SAN_MODEL_CONFIG)\n",
    "model_config = {\n",
    "    **model_config,\n",
    "    'input_dims': input_dims\n",
    "}\n",
    "\n",
    "# Set device\n",
    "device = torch.device(\"cuda\" if torch.cuda.is_available() else \"cpu\")\n",
    "print(f'Using device: {device}')\n",
    "\n",
    "results = []\n",
    "for i, (subject_id, loaders) in enumerate(dataloaders.items()):\n",
    "    train_loader = loaders['train']\n",
    "    val_loader = loaders['val']\n",
    "    \n",
    "    print(f'\\nSubject: {subject_id}')\n",
    "    print(f'Train: {len(train_loader.dataset)}')\n",
    "    print(f'Val: {len(val_loader.dataset)}')\n",
    "    print()\n",
    "\n",
    "    # Initialize model\n",
    "    model = ModularModalityFusionNet(**model_config)\n",
    "\n",
    "    # Initialize trainer\n",
    "    trainer = PyTorchTrainer(model, train_loader, val_loader, SAN_MODEL_CONFIG, device)\n",
    "    trainer.save_path = trainer.save_path.format(fold=f'subject_{subject_id}')\n",
    "    if i == 0:\n",
    "        trainer.print_model_summary()\n",
    "    trained_model_ckpt = trainer.train()\n",
    "    print(f'Model checkpoint saved to: {trained_model_ckpt}\\n')\n",
    "\n",
    "    result = trainer.validate(trained_model_ckpt)\n",
    "    results.append(result)\n",
    "    break\n",
    "\n",
    "# save the results to pkl\n",
    "current_time = datetime.now().strftime(\"%Y_%m_%d_%H_%M_%S\")\n",
    "save_path = f'src/wesad/WESAD/results/san/wrist_results/{WINDOW_LENGTH}s_{SLIDING_LENGTH}s_{SPLIT_LENGTH}s/{current_time}/generalized'\n",
    "save_var(results, f'{save_path}/results.pkl', 'Results')\n",
    "copy_json(SAN_MODEL_CONFIG, f'{save_path}/config.json')"
   ]
  },
  {
   "cell_type": "markdown",
   "metadata": {},
   "source": [
    "### Visualize Results"
   ]
  },
  {
   "cell_type": "code",
   "execution_count": null,
   "metadata": {},
   "outputs": [],
   "source": [
    "from src.ml_pipeline.analysis import ModelResultsAnalysis\n",
    "from src.utils import load_var\n",
    "\n",
    "WINDOW_LENGTH = 60\n",
    "SLIDING_LENGTH = 5\n",
    "SPLIT_LENGTH = 10 # this will split each 60 second segments into 6 x 10 second segments\n",
    "\n",
    "# results_path = 'src/wesad/WESAD/results/san/wrist_results/60s_5s_10s/2024_06_20_14_55_01/.pkl'\n",
    "results_path = f'{save_path}/results.pkl'\n",
    "results = load_var(results_path)\n",
    "\n",
    "analysis = ModelResultsAnalysis(results)\n",
    "analysis.analyze_collective()"
   ]
  },
  {
   "cell_type": "markdown",
   "metadata": {},
   "source": [
    "### Prepare Cross Validation Dataloader for Personalization\n",
    "\n",
    "First we must prepare a new dataloader which exclusively contains one subject's personalized data that is used to cross validate the personalized model."
   ]
  },
  {
   "cell_type": "code",
   "execution_count": null,
   "metadata": {},
   "outputs": [],
   "source": [
    "from src.ml_pipeline.data_loader import PersonalSensorDataLoader\n",
    "\n",
    "WINDOW_LENGTH = 60\n",
    "SLIDING_LENGTH = 5\n",
    "SPLIT_LENGTH = 10 # this will split each 60 second segments into 6 x 10 second segments\n",
    "WRIST_CONFIG = 'config_files/dataset/wesad_wrist_configuration.json'\n",
    "WRIST_FE = f'src/wesad/WESAD/manual_fe/wrist_manual_fe/{WINDOW_LENGTH}s_{SLIDING_LENGTH}s_{SPLIT_LENGTH}s/wrist_features.hdf5'\n",
    "dataloader_params = {\n",
    "    'batch_size': 32,\n",
    "    'shuffle': True,\n",
    "    # 'num_workers': 4\n",
    "}\n",
    "\n",
    "SUBJECT_ID = 2\n",
    "personal_loader = PersonalSensorDataLoader(WRIST_FE, WRIST_CONFIG, **dataloader_params)\n",
    "\n",
    "# Prepare the datasets\n",
    "DATASETS_PATH = personal_loader.prepare_datasets(f'src/wesad/WESAD/datasets/{WINDOW_LENGTH}s_{SLIDING_LENGTH}s_{SPLIT_LENGTH}s', SUBJECT_ID)"
   ]
  },
  {
   "cell_type": "markdown",
   "metadata": {},
   "source": [
    "### Adding Personalization via Transfer Learning\n",
    "\n",
    "This will then be used to fine tune the model with the new multiheaded attention blocks architecture."
   ]
  },
  {
   "cell_type": "code",
   "execution_count": 1,
   "metadata": {},
   "outputs": [
    {
     "name": "stdout",
     "output_type": "stream",
     "text": [
      "Using device: cuda\n",
      "\n",
      "Fold: 0\n",
      "Train: 262\n",
      "Val: 7\n",
      "\n",
      "----------------------------------------------------------------\n",
      "                  Layer (type)                              Output Shape              Param #\n",
      "================================================================\n",
      "                      Linear-1                                 [32, 128]               10,624\n",
      "                     Dropout-2                             [32, 10, 128]                    0\n",
      "          PositionalEncoding-3                             [32, 10, 128]                    0\n",
      "          MultiheadAttention-4               [[-1, 10, 128], [-1, 2, 2]]                    0\n",
      "                   LayerNorm-5                             [32, 10, 128]                  256\n",
      "                     Dropout-6                             [32, 10, 128]                    0\n",
      "                      Linear-7                             [32, 10, 128]               16,512\n",
      "                        ReLU-8                             [32, 10, 128]                    0\n",
      "                     Dropout-9                             [32, 10, 128]                    0\n",
      "                     Linear-10                             [32, 10, 128]               16,512\n",
      "    PositionwiseFeedForward-11                             [32, 10, 128]                    0\n",
      "                  LayerNorm-12                             [32, 10, 128]                  256\n",
      "                    Dropout-13                             [32, 10, 128]                    0\n",
      "               EncoderLayer-14                             [32, 10, 128]                    0\n",
      "                     Linear-15                                 [32, 256]               65,792\n",
      "                       ReLU-16                                 [32, 256]                    0\n",
      "                    Dropout-17                                 [32, 256]                    0\n",
      "                     Linear-18                                 [32, 128]               10,624\n",
      "                    Dropout-19                             [32, 10, 128]                    0\n",
      "         PositionalEncoding-20                             [32, 10, 128]                    0\n",
      "         MultiheadAttention-21               [[-1, 10, 128], [-1, 2, 2]]                    0\n",
      "                  LayerNorm-22                             [32, 10, 128]                  256\n",
      "                    Dropout-23                             [32, 10, 128]                    0\n",
      "                     Linear-24                             [32, 10, 128]               16,512\n",
      "                       ReLU-25                             [32, 10, 128]                    0\n",
      "                    Dropout-26                             [32, 10, 128]                    0\n",
      "                     Linear-27                             [32, 10, 128]               16,512\n",
      "    PositionwiseFeedForward-28                             [32, 10, 128]                    0\n",
      "                  LayerNorm-29                             [32, 10, 128]                  256\n",
      "                    Dropout-30                             [32, 10, 128]                    0\n",
      "               EncoderLayer-31                             [32, 10, 128]                    0\n",
      "                     Linear-32                                 [32, 256]               65,792\n",
      "                       ReLU-33                                 [32, 256]                    0\n",
      "                    Dropout-34                                 [32, 256]                    0\n",
      "                     Linear-35                                 [32, 128]                2,048\n",
      "                    Dropout-36                             [32, 10, 128]                    0\n",
      "         PositionalEncoding-37                             [32, 10, 128]                    0\n",
      "         MultiheadAttention-38               [[-1, 10, 128], [-1, 2, 2]]                    0\n",
      "                  LayerNorm-39                             [32, 10, 128]                  256\n",
      "                    Dropout-40                             [32, 10, 128]                    0\n",
      "                     Linear-41                             [32, 10, 128]               16,512\n",
      "                       ReLU-42                             [32, 10, 128]                    0\n",
      "                    Dropout-43                             [32, 10, 128]                    0\n",
      "                     Linear-44                             [32, 10, 128]               16,512\n",
      "    PositionwiseFeedForward-45                             [32, 10, 128]                    0\n",
      "                  LayerNorm-46                             [32, 10, 128]                  256\n",
      "                    Dropout-47                             [32, 10, 128]                    0\n",
      "               EncoderLayer-48                             [32, 10, 128]                    0\n",
      "                     Linear-49                                 [32, 256]               65,792\n",
      "                       ReLU-50                                 [32, 256]                    0\n",
      "                    Dropout-51                                 [32, 256]                    0\n",
      "                     Linear-52                                 [32, 128]                2,048\n",
      "                    Dropout-53                             [32, 10, 128]                    0\n",
      "         PositionalEncoding-54                             [32, 10, 128]                    0\n",
      "         MultiheadAttention-55               [[-1, 10, 128], [-1, 2, 2]]                    0\n",
      "                  LayerNorm-56                             [32, 10, 128]                  256\n",
      "                    Dropout-57                             [32, 10, 128]                    0\n",
      "                     Linear-58                             [32, 10, 128]               16,512\n",
      "                       ReLU-59                             [32, 10, 128]                    0\n",
      "                    Dropout-60                             [32, 10, 128]                    0\n",
      "                     Linear-61                             [32, 10, 128]               16,512\n",
      "    PositionwiseFeedForward-62                             [32, 10, 128]                    0\n",
      "                  LayerNorm-63                             [32, 10, 128]                  256\n",
      "                    Dropout-64                             [32, 10, 128]                    0\n",
      "               EncoderLayer-65                             [32, 10, 128]                    0\n",
      "                     Linear-66                                 [32, 256]               65,792\n",
      "                       ReLU-67                                 [32, 256]                    0\n",
      "                    Dropout-68                                 [32, 256]                    0\n",
      "                     Linear-69                                 [32, 128]                2,048\n",
      "                    Dropout-70                             [32, 10, 128]                    0\n",
      "         PositionalEncoding-71                             [32, 10, 128]                    0\n",
      "         MultiheadAttention-72               [[-1, 10, 128], [-1, 2, 2]]                    0\n",
      "                  LayerNorm-73                             [32, 10, 128]                  256\n",
      "                    Dropout-74                             [32, 10, 128]                    0\n",
      "                     Linear-75                             [32, 10, 128]               16,512\n",
      "                       ReLU-76                             [32, 10, 128]                    0\n",
      "                    Dropout-77                             [32, 10, 128]                    0\n",
      "                     Linear-78                             [32, 10, 128]               16,512\n",
      "    PositionwiseFeedForward-79                             [32, 10, 128]                    0\n",
      "                  LayerNorm-80                             [32, 10, 128]                  256\n",
      "                    Dropout-81                             [32, 10, 128]                    0\n",
      "               EncoderLayer-82                             [32, 10, 128]                    0\n",
      "                     Linear-83                                 [32, 256]               65,792\n",
      "                       ReLU-84                                 [32, 256]                    0\n",
      "                    Dropout-85                                 [32, 256]                    0\n",
      "                     Linear-86                                 [32, 128]                2,048\n",
      "                    Dropout-87                             [32, 10, 128]                    0\n",
      "         PositionalEncoding-88                             [32, 10, 128]                    0\n",
      "         MultiheadAttention-89               [[-1, 10, 128], [-1, 2, 2]]                    0\n",
      "                  LayerNorm-90                             [32, 10, 128]                  256\n",
      "                    Dropout-91                             [32, 10, 128]                    0\n",
      "                     Linear-92                             [32, 10, 128]               16,512\n",
      "                       ReLU-93                             [32, 10, 128]                    0\n",
      "                    Dropout-94                             [32, 10, 128]                    0\n",
      "                     Linear-95                             [32, 10, 128]               16,512\n",
      "    PositionwiseFeedForward-96                             [32, 10, 128]                    0\n",
      "                  LayerNorm-97                             [32, 10, 128]                  256\n",
      "                    Dropout-98                             [32, 10, 128]                    0\n",
      "               EncoderLayer-99                             [32, 10, 128]                    0\n",
      "                    Linear-100                                 [32, 256]               65,792\n",
      "                      ReLU-101                                 [32, 256]                    0\n",
      "                   Dropout-102                                 [32, 256]                    0\n",
      "                    Linear-103                                 [32, 128]                  896\n",
      "                   Dropout-104                             [32, 10, 128]                    0\n",
      "        PositionalEncoding-105                             [32, 10, 128]                    0\n",
      "        MultiheadAttention-106               [[-1, 10, 128], [-1, 2, 2]]                    0\n",
      "                 LayerNorm-107                             [32, 10, 128]                  256\n",
      "                   Dropout-108                             [32, 10, 128]                    0\n",
      "                    Linear-109                             [32, 10, 128]               16,512\n",
      "                      ReLU-110                             [32, 10, 128]                    0\n",
      "                   Dropout-111                             [32, 10, 128]                    0\n",
      "                    Linear-112                             [32, 10, 128]               16,512\n",
      "   PositionwiseFeedForward-113                             [32, 10, 128]                    0\n",
      "                 LayerNorm-114                             [32, 10, 128]                  256\n",
      "                   Dropout-115                             [32, 10, 128]                    0\n",
      "              EncoderLayer-116                             [32, 10, 128]                    0\n",
      "                    Linear-117                                 [32, 256]               65,792\n",
      "                      ReLU-118                                 [32, 256]                    0\n",
      "                   Dropout-119                                 [32, 256]                    0\n",
      "                    Linear-120                                 [32, 128]                  896\n",
      "                   Dropout-121                             [32, 10, 128]                    0\n",
      "        PositionalEncoding-122                             [32, 10, 128]                    0\n",
      "        MultiheadAttention-123               [[-1, 10, 128], [-1, 2, 2]]                    0\n",
      "                 LayerNorm-124                             [32, 10, 128]                  256\n",
      "                   Dropout-125                             [32, 10, 128]                    0\n",
      "                    Linear-126                             [32, 10, 128]               16,512\n",
      "                      ReLU-127                             [32, 10, 128]                    0\n",
      "                   Dropout-128                             [32, 10, 128]                    0\n",
      "                    Linear-129                             [32, 10, 128]               16,512\n",
      "   PositionwiseFeedForward-130                             [32, 10, 128]                    0\n",
      "                 LayerNorm-131                             [32, 10, 128]                  256\n",
      "                   Dropout-132                             [32, 10, 128]                    0\n",
      "              EncoderLayer-133                             [32, 10, 128]                    0\n",
      "                    Linear-134                                 [32, 256]               65,792\n",
      "                      ReLU-135                                 [32, 256]                    0\n",
      "                   Dropout-136                                 [32, 256]                    0\n",
      "                      ReLU-137                                [32, 2048]                    0\n",
      "                   Dropout-138                                [32, 2048]                    0\n",
      "                    Linear-139                                   [32, 2]                4,098\n",
      "================================================================\n",
      "Total params: 829,954\n",
      "Trainable params: 417,026\n",
      "Non-trainable params: 412,928\n",
      "----------------------------------------------------------------\n",
      "Input size (MB): 13.51\n",
      "Forward/backward pass size (MB): 33.06\n",
      "Params size (MB): 3.17\n",
      "Estimated Total Size (MB): 49.74\n",
      "----------------------------------------------------------------\n",
      "Storing tensorboard log to: src/wesad/WESAD/ckpts/san/wrist_manual_fe/60s_5s_10s/mmfn/personalized/subject_fold_0/tensorboard\n"
     ]
    },
    {
     "name": "stderr",
     "output_type": "stream",
     "text": [
      "Epoch 1/2: 100%|██████████| 9/9 [00:01<00:00,  5.37it/s, loss=0.0492]\n"
     ]
    },
    {
     "name": "stdout",
     "output_type": "stream",
     "text": [
      "Epoch: 0, | training loss: 0.3076\n"
     ]
    },
    {
     "name": "stderr",
     "output_type": "stream",
     "text": [
      "Epoch 2/2: 100%|██████████| 9/9 [00:01<00:00,  6.12it/s, loss=0.00284]\n"
     ]
    },
    {
     "name": "stdout",
     "output_type": "stream",
     "text": [
      "Epoch: 1, | training loss: 0.0067\n",
      "Model saved at: src/wesad/WESAD/ckpts/san/wrist_manual_fe/60s_5s_10s/mmfn/personalized/subject_fold_0/checkpoint_2.pth\n",
      "\n",
      "Fold: 1\n",
      "Train: 262\n",
      "Val: 7\n",
      "\n",
      "Storing tensorboard log to: src/wesad/WESAD/ckpts/san/wrist_manual_fe/60s_5s_10s/mmfn/personalized/subject_fold_1/tensorboard\n"
     ]
    },
    {
     "name": "stderr",
     "output_type": "stream",
     "text": [
      "Epoch 1/2: 100%|██████████| 9/9 [00:01<00:00,  5.99it/s, loss=0.0292]\n"
     ]
    },
    {
     "name": "stdout",
     "output_type": "stream",
     "text": [
      "Epoch: 0, | training loss: 0.2017\n"
     ]
    },
    {
     "name": "stderr",
     "output_type": "stream",
     "text": [
      "Epoch 2/2: 100%|██████████| 9/9 [00:01<00:00,  5.83it/s, loss=0.00302]\n"
     ]
    },
    {
     "name": "stdout",
     "output_type": "stream",
     "text": [
      "Epoch: 1, | training loss: 0.0057\n",
      "Model saved at: src/wesad/WESAD/ckpts/san/wrist_manual_fe/60s_5s_10s/mmfn/personalized/subject_fold_1/checkpoint_2.pth\n",
      "\n",
      "Fold: 2\n",
      "Train: 262\n",
      "Val: 5\n",
      "\n",
      "Storing tensorboard log to: src/wesad/WESAD/ckpts/san/wrist_manual_fe/60s_5s_10s/mmfn/personalized/subject_fold_2/tensorboard\n"
     ]
    },
    {
     "name": "stderr",
     "output_type": "stream",
     "text": [
      "Epoch 1/2: 100%|██████████| 9/9 [00:01<00:00,  5.69it/s, loss=0.0253]\n"
     ]
    },
    {
     "name": "stdout",
     "output_type": "stream",
     "text": [
      "Epoch: 0, | training loss: 0.1745\n"
     ]
    },
    {
     "name": "stderr",
     "output_type": "stream",
     "text": [
      "Epoch 2/2: 100%|██████████| 9/9 [00:01<00:00,  6.06it/s, loss=0.000231]\n"
     ]
    },
    {
     "name": "stdout",
     "output_type": "stream",
     "text": [
      "Epoch: 1, | training loss: 0.0065\n",
      "Model saved at: src/wesad/WESAD/ckpts/san/wrist_manual_fe/60s_5s_10s/mmfn/personalized/subject_fold_2/checkpoint_2.pth\n",
      "\n",
      "Fold: 3\n",
      "Train: 263\n",
      "Val: 5\n",
      "\n",
      "Storing tensorboard log to: src/wesad/WESAD/ckpts/san/wrist_manual_fe/60s_5s_10s/mmfn/personalized/subject_fold_3/tensorboard\n"
     ]
    },
    {
     "name": "stderr",
     "output_type": "stream",
     "text": [
      "Epoch 1/2: 100%|██████████| 9/9 [00:01<00:00,  5.80it/s, loss=0.0393]\n"
     ]
    },
    {
     "name": "stdout",
     "output_type": "stream",
     "text": [
      "Epoch: 0, | training loss: 0.3321\n"
     ]
    },
    {
     "name": "stderr",
     "output_type": "stream",
     "text": [
      "Epoch 2/2: 100%|██████████| 9/9 [00:01<00:00,  5.81it/s, loss=0.00165]\n"
     ]
    },
    {
     "name": "stdout",
     "output_type": "stream",
     "text": [
      "Epoch: 1, | training loss: 0.0135\n",
      "Model saved at: src/wesad/WESAD/ckpts/san/wrist_manual_fe/60s_5s_10s/mmfn/personalized/subject_fold_3/checkpoint_2.pth\n",
      "\n",
      "Fold: 4\n",
      "Train: 263\n",
      "Val: 4\n",
      "\n",
      "Storing tensorboard log to: src/wesad/WESAD/ckpts/san/wrist_manual_fe/60s_5s_10s/mmfn/personalized/subject_fold_4/tensorboard\n"
     ]
    },
    {
     "name": "stderr",
     "output_type": "stream",
     "text": [
      "Epoch 1/2: 100%|██████████| 9/9 [00:01<00:00,  5.90it/s, loss=0.0412]\n"
     ]
    },
    {
     "name": "stdout",
     "output_type": "stream",
     "text": [
      "Epoch: 0, | training loss: 0.2156\n"
     ]
    },
    {
     "name": "stderr",
     "output_type": "stream",
     "text": [
      "Epoch 2/2: 100%|██████████| 9/9 [00:01<00:00,  5.92it/s, loss=0.000593]\n"
     ]
    },
    {
     "name": "stdout",
     "output_type": "stream",
     "text": [
      "Epoch: 1, | training loss: 0.0040\n",
      "Model saved at: src/wesad/WESAD/ckpts/san/wrist_manual_fe/60s_5s_10s/mmfn/personalized/subject_fold_4/checkpoint_2.pth\n",
      "Variable 'results' saved to src/wesad/WESAD/results/san/wrist_results/60s_5s_10s/2024_06_22_14_20_25/personalized/results.pkl\n"
     ]
    }
   ],
   "source": [
    "from src.ml_pipeline.train import PyTorchTrainer\n",
    "from src.ml_pipeline.models.attention_models import PersonalizedModalityFusionNet, ModularModalityFusionNet\n",
    "from src.ml_pipeline.data_loader import PersonalSensorDataLoader\n",
    "from src.ml_pipeline.utils import get_active_key, load_json, copy_json\n",
    "from src.utils import save_var\n",
    "from datetime import datetime\n",
    "import torch\n",
    "\n",
    "WINDOW_LENGTH = 60\n",
    "SLIDING_LENGTH = 5\n",
    "SPLIT_LENGTH = 10 # this will split each 60 second segments into 6 x 10 second segments\n",
    "\n",
    "SUBJECT_ID = 2\n",
    "\n",
    "DATASETS_PATH = f'src/wesad/WESAD/datasets/{WINDOW_LENGTH}s_{SLIDING_LENGTH}s_{SPLIT_LENGTH}s/subject_{SUBJECT_ID}/personal_dataset.pkl'\n",
    "WRIST_CONFIG = 'config_files/dataset/wesad_wrist_configuration.json'\n",
    "WRIST_FE = f'src/wesad/WESAD/manual_fe/wrist_manual_fe/{WINDOW_LENGTH}s_{SLIDING_LENGTH}s_{SPLIT_LENGTH}s/wrist_features.hdf5'\n",
    "SAN_MODEL_PER_CONFIG = 'config_files/model_training/deep/personalized_modality_fusion_net_config.json'\n",
    "MFN_CKPT_PATH = 'src/wesad/WESAD/ckpts/san/wrist_manual_fe/60s_5s_10s/generalized/subject_2/checkpoint_5.pth'\n",
    "\n",
    "dataloader_params = {\n",
    "    'batch_size': 32,\n",
    "    'shuffle': True,\n",
    "    # 'num_workers': 4\n",
    "}\n",
    "\n",
    "# Load Dataloaders for LOSOCV\n",
    "personal_loader = PersonalSensorDataLoader(WRIST_FE, WRIST_CONFIG, **dataloader_params)\n",
    "dataloaders, input_dims = personal_loader.get_data_loaders(DATASETS_PATH)\n",
    "\n",
    "# Load Model Parameters\n",
    "model_config = load_json(SAN_MODEL_PER_CONFIG)\n",
    "model_config = {\n",
    "    **model_config,\n",
    "    'input_dims': input_dims\n",
    "}\n",
    "\n",
    "# Set device\n",
    "device = torch.device(\"cuda\" if torch.cuda.is_available() else \"cpu\")\n",
    "print(f'Using device: {device}')\n",
    "\n",
    "results = []\n",
    "for i, loaders in enumerate(dataloaders):\n",
    "    train_loader = loaders['train']\n",
    "    val_loader = loaders['val']    \n",
    "    print(f'\\nFold: {i}')\n",
    "    print(f'Train: {len(train_loader.dataset)}')\n",
    "    print(f'Val: {len(val_loader.dataset)}')\n",
    "    print()\n",
    "\n",
    "    # Initialize model\n",
    "    model = PersonalizedModalityFusionNet(MFN_CKPT_PATH, ModularModalityFusionNet, **model_config)\n",
    "\n",
    "    # Initialize trainer\n",
    "    trainer = PyTorchTrainer(model, train_loader, val_loader, SAN_MODEL_PER_CONFIG, device)\n",
    "    trainer.save_path = trainer.save_path.format(fold=f'fold_{i}')\n",
    "    if i == 0:\n",
    "        trainer.print_model_summary()\n",
    "    trained_model_ckpt = trainer.train()\n",
    "    print(f'Model saved at: {trained_model_ckpt}')\n",
    "\n",
    "    result = trainer.validate(trained_model_ckpt)\n",
    "    results.append(result)\n",
    "\n",
    "# save the results to pkl\n",
    "current_time = datetime.now().strftime(\"%Y_%m_%d_%H_%M_%S\")\n",
    "save_path = f'src/wesad/WESAD/results/san/wrist_results/{WINDOW_LENGTH}s_{SLIDING_LENGTH}s_{SPLIT_LENGTH}s/{current_time}/personalized'\n",
    "save_var(results, f'{save_path}/results.pkl', 'results')\n",
    "copy_json(SAN_MODEL_PER_CONFIG, f'{save_path}/config.json')"
   ]
  },
  {
   "cell_type": "markdown",
   "metadata": {},
   "source": [
    "### Visualize Results"
   ]
  },
  {
   "cell_type": "code",
   "execution_count": 2,
   "metadata": {},
   "outputs": [
    {
     "name": "stdout",
     "output_type": "stream",
     "text": [
      "Variable loaded from src/wesad/WESAD/results/san/wrist_results/60s_5s_10s/2024_06_22_14_20_25/personalized/results.pkl\n",
      "PersonalizedModalityFusionNet:\n",
      "  Accuracy: 1.00000\n",
      "  Loss: 0.00227\n",
      "  Precision: 1.00000\n",
      "  Recall: 1.00000\n",
      "  F1 Score: 1.00000\n",
      "  Inference Time (ms): 22.45851\n"
     ]
    },
    {
     "data": {
      "image/png": "[encoded data removed]",
      "text/plain": [
       "<Figure size 1000x700 with 2 Axes>"
      ]
     },
     "metadata": {},
     "output_type": "display_data"
    }
   ],
   "source": [
    "from src.ml_pipeline.analysis import ModelResultsAnalysis\n",
    "from src.utils import load_var\n",
    "\n",
    "WINDOW_LENGTH = 60\n",
    "SLIDING_LENGTH = 5\n",
    "SPLIT_LENGTH = 10 # this will split each 60 second segments into 6 x 10 second segments\n",
    "\n",
    "results_path = f'src/wesad/WESAD/results/san/wrist_results/60s_5s_10s/2024_06_22_14_20_25/personalized/results.pkl'\n",
    "results = load_var(results_path)\n",
    "\n",
    "analysis = ModelResultsAnalysis(results)\n",
    "analysis.analyze_collective()"
   ]
  },
  {
   "cell_type": "markdown",
   "metadata": {},
   "source": [
    "## Self and Cross Attention Network\n",
    "\n",
    "This model now integrates cross attention into the self-attention network for inter-modality and intra-modality feature extraction."
   ]
  },
  {
   "cell_type": "code",
   "execution_count": 1,
   "metadata": {},
   "outputs": [
    {
     "name": "stdout",
     "output_type": "stream",
     "text": [
      "Using device: cuda\n",
      "\n",
      "Subject: 2\n",
      "Train: 4821\n",
      "Val: 28\n",
      "\n",
      "----------------------------------------------------------------\n",
      "        Layer (type)               Output Shape         Param #\n",
      "================================================================\n",
      "            Linear-1                  [32, 128]          10,624\n",
      "           Dropout-2              [32, 10, 128]               0\n",
      "PositionalEncoding-3              [32, 10, 128]               0\n",
      "            Linear-4                  [32, 128]           2,048\n",
      "           Dropout-5              [32, 10, 128]               0\n",
      "PositionalEncoding-6              [32, 10, 128]               0\n",
      "            Linear-7                  [32, 128]           2,048\n",
      "           Dropout-8              [32, 10, 128]               0\n",
      "PositionalEncoding-9              [32, 10, 128]               0\n",
      "           Linear-10                  [32, 128]             896\n",
      "          Dropout-11              [32, 10, 128]               0\n",
      "PositionalEncoding-12              [32, 10, 128]               0\n",
      "MultiheadAttention-13  [[-1, 10, 128], [-1, 2, 2]]               0\n",
      "          Dropout-14              [32, 10, 128]               0\n",
      "        LayerNorm-15              [32, 10, 128]             256\n",
      "CrossAttentionBlock-16              [32, 10, 128]               0\n",
      "MultiheadAttention-17  [[-1, 10, 128], [-1, 2, 2]]               0\n",
      "          Dropout-18              [32, 10, 128]               0\n",
      "        LayerNorm-19              [32, 10, 128]             256\n",
      "CrossAttentionBlock-20              [32, 10, 128]               0\n",
      "MultiheadAttention-21  [[-1, 10, 128], [-1, 2, 2]]               0\n",
      "          Dropout-22              [32, 10, 128]               0\n",
      "        LayerNorm-23              [32, 10, 128]             256\n",
      "CrossAttentionBlock-24              [32, 10, 128]               0\n",
      "MultiheadAttention-25  [[-1, 10, 128], [-1, 2, 2]]               0\n",
      "          Dropout-26              [32, 10, 128]               0\n",
      "        LayerNorm-27              [32, 10, 128]             256\n",
      "CrossAttentionBlock-28              [32, 10, 128]               0\n",
      "MultiheadAttention-29  [[-1, 10, 128], [-1, 2, 2]]               0\n",
      "          Dropout-30              [32, 10, 128]               0\n",
      "        LayerNorm-31              [32, 10, 128]             256\n",
      "CrossAttentionBlock-32              [32, 10, 128]               0\n",
      "MultiheadAttention-33  [[-1, 10, 128], [-1, 2, 2]]               0\n",
      "          Dropout-34              [32, 10, 128]               0\n",
      "        LayerNorm-35              [32, 10, 128]             256\n",
      "CrossAttentionBlock-36              [32, 10, 128]               0\n",
      "MultiheadAttention-37  [[-1, 10, 128], [-1, 2, 2]]               0\n",
      "          Dropout-38              [32, 10, 128]               0\n",
      "        LayerNorm-39              [32, 10, 128]             256\n",
      "CrossAttentionBlock-40              [32, 10, 128]               0\n",
      "MultiheadAttention-41  [[-1, 10, 128], [-1, 2, 2]]               0\n",
      "          Dropout-42              [32, 10, 128]               0\n",
      "        LayerNorm-43              [32, 10, 128]             256\n",
      "CrossAttentionBlock-44              [32, 10, 128]               0\n",
      "MultiheadAttention-45  [[-1, 10, 128], [-1, 2, 2]]               0\n",
      "          Dropout-46              [32, 10, 128]               0\n",
      "        LayerNorm-47              [32, 10, 128]             256\n",
      "CrossAttentionBlock-48              [32, 10, 128]               0\n",
      "MultiheadAttention-49  [[-1, 10, 128], [-1, 2, 2]]               0\n",
      "          Dropout-50              [32, 10, 128]               0\n",
      "        LayerNorm-51              [32, 10, 128]             256\n",
      "CrossAttentionBlock-52              [32, 10, 128]               0\n",
      "MultiheadAttention-53  [[-1, 10, 128], [-1, 2, 2]]               0\n",
      "          Dropout-54              [32, 10, 128]               0\n",
      "        LayerNorm-55              [32, 10, 128]             256\n",
      "CrossAttentionBlock-56              [32, 10, 128]               0\n",
      "MultiheadAttention-57  [[-1, 10, 128], [-1, 2, 2]]               0\n",
      "          Dropout-58              [32, 10, 128]               0\n",
      "        LayerNorm-59              [32, 10, 128]             256\n",
      "CrossAttentionBlock-60              [32, 10, 128]               0\n",
      "MultiheadAttention-61  [[-1, 10, 128], [-1, 2, 2]]               0\n",
      "        LayerNorm-62              [32, 10, 128]             256\n",
      "          Dropout-63              [32, 10, 128]               0\n",
      "           Linear-64              [32, 10, 128]          16,512\n",
      "             ReLU-65              [32, 10, 128]               0\n",
      "          Dropout-66              [32, 10, 128]               0\n",
      "           Linear-67              [32, 10, 128]          16,512\n",
      "PositionwiseFeedForward-68              [32, 10, 128]               0\n",
      "        LayerNorm-69              [32, 10, 128]             256\n",
      "          Dropout-70              [32, 10, 128]               0\n",
      "     EncoderLayer-71              [32, 10, 128]               0\n",
      "           Linear-72                  [32, 256]          65,792\n",
      "             ReLU-73                  [32, 256]               0\n",
      "          Dropout-74                  [32, 256]               0\n",
      "           Linear-75                    [32, 2]             514\n",
      "MultiheadAttention-76  [[-1, 10, 128], [-1, 2, 2]]               0\n",
      "        LayerNorm-77              [32, 10, 128]             256\n",
      "          Dropout-78              [32, 10, 128]               0\n",
      "           Linear-79              [32, 10, 128]          16,512\n",
      "             ReLU-80              [32, 10, 128]               0\n",
      "          Dropout-81              [32, 10, 128]               0\n",
      "           Linear-82              [32, 10, 128]          16,512\n",
      "PositionwiseFeedForward-83              [32, 10, 128]               0\n",
      "        LayerNorm-84              [32, 10, 128]             256\n",
      "          Dropout-85              [32, 10, 128]               0\n",
      "     EncoderLayer-86              [32, 10, 128]               0\n",
      "           Linear-87                  [32, 256]          65,792\n",
      "             ReLU-88                  [32, 256]               0\n",
      "          Dropout-89                  [32, 256]               0\n",
      "           Linear-90                    [32, 2]             514\n",
      "MultiheadAttention-91  [[-1, 10, 128], [-1, 2, 2]]               0\n",
      "        LayerNorm-92              [32, 10, 128]             256\n",
      "          Dropout-93              [32, 10, 128]               0\n",
      "           Linear-94              [32, 10, 128]          16,512\n",
      "             ReLU-95              [32, 10, 128]               0\n",
      "          Dropout-96              [32, 10, 128]               0\n",
      "           Linear-97              [32, 10, 128]          16,512\n",
      "PositionwiseFeedForward-98              [32, 10, 128]               0\n",
      "        LayerNorm-99              [32, 10, 128]             256\n",
      "         Dropout-100              [32, 10, 128]               0\n",
      "    EncoderLayer-101              [32, 10, 128]               0\n",
      "          Linear-102                  [32, 256]          65,792\n",
      "            ReLU-103                  [32, 256]               0\n",
      "         Dropout-104                  [32, 256]               0\n",
      "          Linear-105                    [32, 2]             514\n",
      "MultiheadAttention-106  [[-1, 10, 128], [-1, 2, 2]]               0\n",
      "       LayerNorm-107              [32, 10, 128]             256\n",
      "         Dropout-108              [32, 10, 128]               0\n",
      "          Linear-109              [32, 10, 128]          16,512\n",
      "            ReLU-110              [32, 10, 128]               0\n",
      "         Dropout-111              [32, 10, 128]               0\n",
      "          Linear-112              [32, 10, 128]          16,512\n",
      "PositionwiseFeedForward-113              [32, 10, 128]               0\n",
      "       LayerNorm-114              [32, 10, 128]             256\n",
      "         Dropout-115              [32, 10, 128]               0\n",
      "    EncoderLayer-116              [32, 10, 128]               0\n",
      "          Linear-117                  [32, 256]          65,792\n",
      "            ReLU-118                  [32, 256]               0\n",
      "         Dropout-119                  [32, 256]               0\n",
      "          Linear-120                    [32, 2]             514\n",
      "            ReLU-121                 [32, 1024]               0\n",
      "         Dropout-122                 [32, 1024]               0\n",
      "          Linear-123                    [32, 2]           2,050\n",
      "================================================================\n",
      "Total params: 420,106\n",
      "Trainable params: 420,106\n",
      "Non-trainable params: 0\n",
      "----------------------------------------------------------------\n",
      "Input size (MB): 13.51\n",
      "Forward/backward pass size (MB): 28.25\n",
      "Params size (MB): 1.60\n",
      "Estimated Total Size (MB): 43.37\n",
      "----------------------------------------------------------------\n",
      "Storing tensorboard log to: src/wesad/WESAD/ckpts/bcsa/wrist_manual_fe/60s_5s_10s/mmfn/subject_2/tensorboard\n"
     ]
    },
    {
     "name": "stderr",
     "output_type": "stream",
     "text": [
      "Epoch 1/2: 100%|██████████| 151/151 [00:33<00:00,  4.48it/s, loss=0.071]  \n"
     ]
    },
    {
     "name": "stdout",
     "output_type": "stream",
     "text": [
      "Epoch: 0, | training loss: 0.1317\n"
     ]
    },
    {
     "name": "stderr",
     "output_type": "stream",
     "text": [
      "Epoch 2/2: 100%|██████████| 151/151 [00:33<00:00,  4.50it/s, loss=0.0515] \n"
     ]
    },
    {
     "name": "stdout",
     "output_type": "stream",
     "text": [
      "Epoch: 1, | training loss: 0.0529\n",
      "Model checkpoint saved to: src/wesad/WESAD/ckpts/bcsa/wrist_manual_fe/60s_5s_10s/mmfn/subject_2/checkpoint_2.pth\n",
      "\n",
      "Variable 'Results' saved to src/wesad/WESAD/results/bcsa/wrist_results/60s_5s_10s/2024_06_22_13_44_46/generalized/results.pkl\n"
     ]
    }
   ],
   "source": [
    "from src.ml_pipeline.train import PyTorchTrainer\n",
    "from src.ml_pipeline.models.attention_models import ModularBCSA\n",
    "from src.ml_pipeline.data_loader import LOSOCVSensorDataLoader\n",
    "from src.ml_pipeline.utils import load_json, copy_json\n",
    "from src.utils import save_var\n",
    "from datetime import datetime\n",
    "import torch\n",
    "\n",
    "WINDOW_LENGTH = 60\n",
    "SLIDING_LENGTH = 5\n",
    "SPLIT_LENGTH = 10 # this will split each 60 second segments into 6 x 10 second segments\n",
    "\n",
    "# DATASETS_PATH = f'src/wesad/WESAD/datasets/{WINDOW_LENGTH}s_{SLIDING_LENGTH}s_{SPLIT_LENGTH}_mini/wrist_manual_fe_{WINDOW_LENGTH}s_{SLIDING_LENGTH}s_{SPLIT_LENGTH}.hdf5'\n",
    "DATASETS_PATH = f'src/wesad/WESAD/datasets/{WINDOW_LENGTH}s_{SLIDING_LENGTH}s_{SPLIT_LENGTH}s/losocv_datasets.pkl'\n",
    "WRIST_CONFIG = 'config_files/dataset/wesad_wrist_configuration.json'\n",
    "WRIST_FE = f'src/wesad/WESAD/manual_fe/wrist_manual_fe/{WINDOW_LENGTH}s_{SLIDING_LENGTH}s_{SPLIT_LENGTH}s_mini/wrist_features.hdf5'\n",
    "BCSA_MODEL_CONFIG = 'config_files/model_training/deep/bsca_config.json'\n",
    "\n",
    "dataloader_params = {\n",
    "    'batch_size': 32,\n",
    "    'shuffle': True,\n",
    "    # 'num_workers': 4\n",
    "}\n",
    "\n",
    "# Load Dataloaders for LOSOCV\n",
    "losocv_loader = LOSOCVSensorDataLoader(WRIST_FE, WRIST_CONFIG, **dataloader_params)\n",
    "dataloaders, input_dims = losocv_loader.get_data_loaders(DATASETS_PATH)\n",
    "\n",
    "# Load Model Parameters\n",
    "model_config = load_json(BCSA_MODEL_CONFIG)\n",
    "model_config = {\n",
    "    **model_config,\n",
    "    'input_dims': input_dims\n",
    "}\n",
    "\n",
    "# Set device\n",
    "device = torch.device(\"cuda\" if torch.cuda.is_available() else \"cpu\")\n",
    "print(f'Using device: {device}')\n",
    "\n",
    "results = []\n",
    "for i, (subject_id, loaders) in enumerate(dataloaders.items()):\n",
    "    train_loader = loaders['train']\n",
    "    val_loader = loaders['val']\n",
    "    \n",
    "    print(f'\\nSubject: {subject_id}')\n",
    "    print(f'Train: {len(train_loader.dataset)}')\n",
    "    print(f'Val: {len(val_loader.dataset)}')\n",
    "    print()\n",
    "\n",
    "    # Initialize model\n",
    "    model = ModularBCSA(**model_config)\n",
    "\n",
    "    # Initialize trainer\n",
    "    trainer = PyTorchTrainer(model, train_loader, val_loader, BCSA_MODEL_CONFIG, device)\n",
    "    trainer.save_path = trainer.save_path.format(fold=f'subject_{subject_id}')\n",
    "    \n",
    "    if i == 0:\n",
    "        trainer.print_model_summary()\n",
    "\n",
    "    trained_model_ckpt = trainer.train()\n",
    "    print(f'Model checkpoint saved to: {trained_model_ckpt}\\n')\n",
    "\n",
    "    result = trainer.validate(trained_model_ckpt)\n",
    "    results.append(result)\n",
    "    break\n",
    "\n",
    "# save the results to pkl\n",
    "current_time = datetime.now().strftime(\"%Y_%m_%d_%H_%M_%S\")\n",
    "save_path = f'src/wesad/WESAD/results/bcsa/wrist_results/{WINDOW_LENGTH}s_{SLIDING_LENGTH}s_{SPLIT_LENGTH}s/{current_time}/generalized'\n",
    "save_var(results, f'{save_path}/results.pkl', 'Results')\n",
    "copy_json(BCSA_MODEL_CONFIG, f'{save_path}/config.json')"
   ]
  },
  {
   "cell_type": "markdown",
   "metadata": {},
   "source": [
    "### Visualize the Results"
   ]
  },
  {
   "cell_type": "code",
   "execution_count": null,
   "metadata": {},
   "outputs": [],
   "source": [
    "from src.ml_pipeline.analysis import ModelResultsAnalysis\n",
    "from src.utils import load_var\n",
    "\n",
    "WINDOW_LENGTH = 60\n",
    "SLIDING_LENGTH = 5\n",
    "SPLIT_LENGTH = 10 # this will split each 60 second segments into 6 x 10 second segments\n",
    "\n",
    "# results_path = f'{save_path}/results.pkl'\n",
    "results_path = 'src/wesad/WESAD/results/bcsa/wrist_results/60s_5s_10s/2024_06_21_15_50_27/generalized/results.pkl'\n",
    "results = load_var(results_path)\n",
    "\n",
    "analysis = ModelResultsAnalysis(results)\n",
    "analysis.analyze_collective()"
   ]
  }
 ],
 "metadata": {
  "kernelspec": {
   "display_name": "ML_Dev_C11",
   "language": "python",
   "name": "python3"
  },
  "language_info": {
   "codemirror_mode": {
    "name": "ipython",
    "version": 3
   },
   "file_extension": ".py",
   "mimetype": "text/x-python",
   "name": "python",
   "nbconvert_exporter": "python",
   "pygments_lexer": "ipython3",
   "version": "3.12.4"
  }
 },
 "nbformat": 4,
 "nbformat_minor": 2
}
